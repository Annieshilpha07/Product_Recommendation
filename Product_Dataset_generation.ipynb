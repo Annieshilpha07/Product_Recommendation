{
  "nbformat": 4,
  "nbformat_minor": 0,
  "metadata": {
    "colab": {
      "provenance": [],
      "toc_visible": true,
      "include_colab_link": true
    },
    "kernelspec": {
      "name": "python3",
      "display_name": "Python 3"
    },
    "language_info": {
      "name": "python"
    }
  },
  "cells": [
    {
      "cell_type": "markdown",
      "metadata": {
        "id": "view-in-github",
        "colab_type": "text"
      },
      "source": [
        "<a href=\"https://colab.research.google.com/github/Annieshilpha07/Product_Recommendation/blob/main/Product_Dataset_generation.ipynb\" target=\"_parent\"><img src=\"https://colab.research.google.com/assets/colab-badge.svg\" alt=\"Open In Colab\"/></a>"
      ]
    },
    {
      "cell_type": "markdown",
      "source": [
        "# Convert Dataset JSONL to CSV with selected columns\n",
        "\n",
        "This project converts Amazon Fashion review and metadata JSONL files to CSV and merges them using the **parent_asin** column. It links user reviews with product details to create a combined dataset for analysis.\n"
      ],
      "metadata": {
        "id": "Kxtd4-5MkNrG"
      }
    },
    {
      "cell_type": "code",
      "execution_count": null,
      "metadata": {
        "colab": {
          "base_uri": "https://localhost:8080/"
        },
        "id": "FAMYuiUqflup",
        "outputId": "828b4894-9109-4db4-a713-812c1386b4a3"
      },
      "outputs": [
        {
          "output_type": "stream",
          "name": "stdout",
          "text": [
            "Collecting jsonlines\n",
            "  Downloading jsonlines-4.0.0-py3-none-any.whl.metadata (1.6 kB)\n",
            "Requirement already satisfied: attrs>=19.2.0 in /usr/local/lib/python3.11/dist-packages (from jsonlines) (25.3.0)\n",
            "Downloading jsonlines-4.0.0-py3-none-any.whl (8.7 kB)\n",
            "Installing collected packages: jsonlines\n",
            "Successfully installed jsonlines-4.0.0\n"
          ]
        }
      ],
      "source": [
        "!pip install jsonlines"
      ]
    },
    {
      "cell_type": "code",
      "source": [
        "import json\n",
        "import jsonlines\n",
        "import pandas as pd\n",
        "\n",
        "\n",
        "def parse_jsonl(path):\n",
        "    data = []\n",
        "    with open(path, 'r') as f:\n",
        "        for line in f:\n",
        "            try:\n",
        "                data.append(json.loads(line))\n",
        "            except json.JSONDecodeError as e:\n",
        "                print(f\"Skipping line due to JSON error: {e}\")\n",
        "    return pd.DataFrame(data)\n",
        "\n",
        "\n",
        "# ----------- 1. Parse Fashion Reviews ----------- #\n",
        "review_path = \"/Amazon_Fashion.jsonl\"\n",
        "review_df = parse_jsonl(review_path)\n",
        "\n",
        "# Keep only necessary review columns\n",
        "review_columns = [\n",
        "    'rating', 'title', 'reviewText', 'asin', 'parent_asin',\n",
        "    'user_id', 'timestamp', 'helpful_vote', 'verified_purchase'\n",
        "]\n",
        "review_df = review_df[[col for col in review_columns if col in review_df.columns]]\n",
        "\n",
        "# ----------- 2. Parse Fashion Metadata ----------- #\n",
        "meta_path = \"/meta_Amazon_Fashion.jsonl\"\n",
        "meta_df = parse_jsonl(meta_path)\n",
        "\n",
        "# Keep only necessary metadata columns\n",
        "meta_columns = [\n",
        "    'main_category', 'title', 'average_rating', 'rating_number', 'features',\n",
        "    'description', 'price', 'images', 'store', 'categories',\n",
        "    'details', 'parent_asin'\n",
        "]\n",
        "meta_df = meta_df[[col for col in meta_columns if col in meta_df.columns]]\n",
        "\n",
        "# ----------- 3. Filter Common `parent_asin` IDs ----------- #\n",
        "common_parent_asins = set(review_df['parent_asin']).intersection(set(meta_df['parent_asin']))\n",
        "limited_parent_asins = list(common_parent_asins)[:100000]\n",
        "\n",
        "# Filter both DataFrames by limited parent_asins\n",
        "review_filtered = review_df[review_df['parent_asin'].isin(limited_parent_asins)]\n",
        "meta_filtered = meta_df[meta_df['parent_asin'].isin(limited_parent_asins)]\n",
        "\n",
        "# ----------- 4. Merge Both on `parent_asin` ----------- #\n",
        "combined_df = pd.merge(review_filtered, meta_filtered, on='parent_asin', how='inner')\n",
        "\n",
        "# Save final combined DataFrame\n",
        "combined_df.to_csv(\"fashion_combined_by_parent_asin.csv\", index=False)\n",
        "print(\"✅ Combined CSV saved:\", combined_df.shape)\n"
      ],
      "metadata": {
        "colab": {
          "base_uri": "https://localhost:8080/"
        },
        "id": "W6vNOsB2gPEq",
        "outputId": "2be7dbf7-9136-4219-a683-eb561814f670"
      },
      "execution_count": null,
      "outputs": [
        {
          "output_type": "stream",
          "name": "stdout",
          "text": [
            "Skipping line due to JSON error: Unterminated string starting at: line 1 column 177 (char 176)\n",
            "Skipping line due to JSON error: Unterminated string starting at: line 1 column 46 (char 45)\n",
            "✅ Combined CSV saved: (224987, 19)\n"
          ]
        }
      ]
    },
    {
      "cell_type": "code",
      "source": [
        "from google.colab import files\n",
        "files.download(\"fashion_combined_by_parent_asin.csv\")\n"
      ],
      "metadata": {
        "colab": {
          "base_uri": "https://localhost:8080/",
          "height": 17
        },
        "id": "kuMT210DixG7",
        "outputId": "4e7152a1-0f2d-4930-8720-d25b91ef411e"
      },
      "execution_count": null,
      "outputs": [
        {
          "output_type": "display_data",
          "data": {
            "text/plain": [
              "<IPython.core.display.Javascript object>"
            ],
            "application/javascript": [
              "\n",
              "    async function download(id, filename, size) {\n",
              "      if (!google.colab.kernel.accessAllowed) {\n",
              "        return;\n",
              "      }\n",
              "      const div = document.createElement('div');\n",
              "      const label = document.createElement('label');\n",
              "      label.textContent = `Downloading \"${filename}\": `;\n",
              "      div.appendChild(label);\n",
              "      const progress = document.createElement('progress');\n",
              "      progress.max = size;\n",
              "      div.appendChild(progress);\n",
              "      document.body.appendChild(div);\n",
              "\n",
              "      const buffers = [];\n",
              "      let downloaded = 0;\n",
              "\n",
              "      const channel = await google.colab.kernel.comms.open(id);\n",
              "      // Send a message to notify the kernel that we're ready.\n",
              "      channel.send({})\n",
              "\n",
              "      for await (const message of channel.messages) {\n",
              "        // Send a message to notify the kernel that we're ready.\n",
              "        channel.send({})\n",
              "        if (message.buffers) {\n",
              "          for (const buffer of message.buffers) {\n",
              "            buffers.push(buffer);\n",
              "            downloaded += buffer.byteLength;\n",
              "            progress.value = downloaded;\n",
              "          }\n",
              "        }\n",
              "      }\n",
              "      const blob = new Blob(buffers, {type: 'application/binary'});\n",
              "      const a = document.createElement('a');\n",
              "      a.href = window.URL.createObjectURL(blob);\n",
              "      a.download = filename;\n",
              "      div.appendChild(a);\n",
              "      a.click();\n",
              "      div.remove();\n",
              "    }\n",
              "  "
            ]
          },
          "metadata": {}
        },
        {
          "output_type": "display_data",
          "data": {
            "text/plain": [
              "<IPython.core.display.Javascript object>"
            ],
            "application/javascript": [
              "download(\"download_5c13d246-03e0-40d0-9f4c-b6b570b72b1a\", \"fashion_combined_by_parent_asin.csv\", 437618427)"
            ]
          },
          "metadata": {}
        }
      ]
    },
    {
      "cell_type": "code",
      "source": [],
      "metadata": {
        "id": "0ouhE_Fii--N"
      },
      "execution_count": null,
      "outputs": []
    }
  ]
}